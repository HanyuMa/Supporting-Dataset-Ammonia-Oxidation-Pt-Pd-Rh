{
 "cells": [
  {
   "cell_type": "code",
   "execution_count": null,
   "metadata": {},
   "outputs": [],
   "source": [
    "from ipysankeywidget import SankeyWidget\n",
    "from ipywidgets import Layout\n",
    "import matplotlib.pyplot as plt\n",
    "import matplotlib\n",
    "%matplotlib inline\n",
    "import numpy as np"
   ]
  },
  {
   "cell_type": "code",
   "execution_count": null,
   "metadata": {},
   "outputs": [],
   "source": [
    "layout = Layout(width=\"300\", height=\"200\")\n",
    "def sankey(margin_top=10, **value):\n",
    "    \"\"\"Show SankeyWidget with default values for size and margins\"\"\"\n",
    "    return SankeyWidget(layout=layout,\n",
    "                        margins=dict(top=margin_top, bottom=0, left=30, right=60),\n",
    "                        **value)"
   ]
  },
  {
   "cell_type": "code",
   "execution_count": null,
   "metadata": {},
   "outputs": [],
   "source": [
    "#Pt(211) at 500 K\n",
    "\n",
    "#Rearcions\n",
    "#0 O2 + 2* = 2O*\n",
    "#1 NH3 + * = NH3*\n",
    "#2 NH3* + O* = NH2* + OH*\n",
    "#3 NH2* + O* = NH* + OH*\n",
    "#4 NH* + O* = N* + OH*\n",
    "#5 NH3* + OH* = NH2* + H2O*\n",
    "#6 NH2* + OH* = NH* + H2O*\n",
    "#7 NH* + OH* = N* + H2O*\n",
    "#8 OH* + OH* = O* + H2O*\n",
    "#9 H2O + * = H2O*\n",
    "#10 N* + N* = N2 + *\n",
    "#11 N* + O* = NO* + *\n",
    "#12 NO* = NO + *\n",
    "#13 N* + NO* =N2O*\n",
    "#14 N2O* = N2O + *\n",
    "#15 NH3* + * = NH2* + H*\n",
    "#16 NH2* + * = NH* + H*\n",
    "#17 NH* + * = N* + H*\n",
    "\n",
    "\n",
    "rate = [0.005296340606381573,\n",
    "        0.007057013086015473,\n",
    "        0.007056393131952513,\n",
    "        1.2805229581623417e-05,\n",
    "        0.007043471964008674,\n",
    "        6.199275870618408e-07,\n",
    "        0.007044207858129278,\n",
    "        1.8098114960731583e-05,\n",
    "        0.003745609401993047,\n",
    "        -0.01058551962898946,\n",
    "        0.003521444576068399,\n",
    "        7.161583737431936e-06,\n",
    "        1.9923359372324168e-07,\n",
    "        6.962350143708696e-06,\n",
    "        6.962350143708694e-06,\n",
    "        2.647751962138639e-11,\n",
    "        -1.6938070175571887e-12,\n",
    "        -4.556992953049709e-06,\n",
    "        0.00021845870547452023,\n",
    "        -0.00022301567364385732]"
   ]
  },
  {
   "cell_type": "code",
   "execution_count": null,
   "metadata": {},
   "outputs": [],
   "source": [
    "links = [\n",
    "    {'source': r'NH3*', 'target': 'OH*', 'value': rate[5], 'color': 'lightgrey'},\n",
    "    {'source': r'NH3*', 'target': 'O*', 'value': rate[2], 'color': 'lightsteelblue'},\n",
    "    {'source': r'NH3*', 'target': '*', 'value': rate[15], 'color': 'lightcoral'},\n",
    "    {'source': 'OH*', 'target': 'NH2*', 'value': rate[5], 'color': 'lightgrey'},\n",
    "    {'source': 'O*', 'target': 'NH2*', 'value': rate[2], 'color': 'lightsteelblue'},\n",
    "    {'source': '*', 'target': 'NH2*', 'value': rate[15], 'color': 'lightcoral'},\n",
    "    {'source': 'NH2*', 'target': 'OH* ', 'value': rate[6], 'color': 'lightgrey'},\n",
    "    {'source': 'NH2*', 'target': 'O* ', 'value': rate[3], 'color': 'lightsteelblue'}, \n",
    "    {'source': 'NH2*', 'target': '* ', 'value': rate[16], 'color': 'lightcoral'},     \n",
    "    {'source': 'OH* ', 'target': 'NH*', 'value': rate[6], 'color': 'lightgrey'},\n",
    "    {'source': 'O* ', 'target': 'NH*', 'value': rate[3], 'color': 'lightsteelblue'},\n",
    "    {'source': '* ', 'target': 'NH*', 'value': rate[16], 'color': 'lightcoral'},\n",
    "    {'source': 'NH*', 'target': 'OH*  ', 'value': rate[7], 'color': 'lightgrey'},\n",
    "    {'source': 'NH*', 'target': 'O*  ', 'value': rate[4], 'color': 'lightsteelblue'},\n",
    "    {'source': 'NH*', 'target': '*  ', 'value': rate[17], 'color': 'lightcoral'},     \n",
    "    {'source': 'OH*  ', 'target': 'N*', 'value': rate[7], 'color': 'lightgrey'},\n",
    "    {'source': 'O*  ', 'target': 'N*', 'value': rate[4], 'color': 'lightsteelblue'}, \n",
    "    {'source': '*  ', 'target': 'N*', 'value': rate[17], 'color': 'lightcoral'}, \n",
    "    {'source': 'N*', 'target': 'NO*', 'value': rate[11], 'color': 'orange'},\n",
    "    {'source': 'N*', 'target': 'N2', 'value': rate[10]*2, 'color': 'steelblue'}, \n",
    "    {'source': 'N*', 'target': 'N2O', 'value': rate[14], 'color': 'violet'},\n",
    "    {'source': 'NO*', 'target': 'N2O', 'value': rate[13], 'color': 'violet'},\n",
    "    {'source': 'NO*', 'target': 'NO', 'value': rate[12], 'color': 'orange'},\n",
    "]\n",
    "\n",
    "rank_sets = [\n",
    "    { 'type': 'same', 'nodes': ['N2','N2O','NO'] },\n",
    "]\n",
    "Pt211_500network = SankeyWidget(links=links, margins=dict(top=150, bottom=150, left=150, right=150),rank_sets=rank_sets)\n"
   ]
  },
  {
   "cell_type": "code",
   "execution_count": null,
   "metadata": {},
   "outputs": [],
   "source": [
    "Pt211_500network"
   ]
  },
  {
   "cell_type": "code",
   "execution_count": null,
   "metadata": {},
   "outputs": [],
   "source": [
    "# Pt211_500network.save_svg('Pt211_500network.svg')"
   ]
  }
 ],
 "metadata": {
  "kernelspec": {
   "display_name": "Python 3",
   "language": "python",
   "name": "python3"
  },
  "language_info": {
   "codemirror_mode": {
    "name": "ipython",
    "version": 3
   },
   "file_extension": ".py",
   "mimetype": "text/x-python",
   "name": "python",
   "nbconvert_exporter": "python",
   "pygments_lexer": "ipython3",
   "version": "3.6.5"
  }
 },
 "nbformat": 4,
 "nbformat_minor": 2
}
